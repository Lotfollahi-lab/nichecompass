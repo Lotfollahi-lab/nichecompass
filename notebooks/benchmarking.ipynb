{
 "cells": [
  {
   "cell_type": "code",
   "execution_count": null,
   "id": "955fabaa-6dc5-46e9-8bde-ec85bde69849",
   "metadata": {},
   "outputs": [],
   "source": [
    "%load_ext autoreload\n",
    "%autoreload 2"
   ]
  },
  {
   "cell_type": "code",
   "execution_count": null,
   "id": "0ed04b09-cc98-4726-9df8-332c6afb84fa",
   "metadata": {},
   "outputs": [],
   "source": [
    "import numpy as np\n",
    "import scipy.sparse as sp\n",
    "\n",
    "from nichecompass.benchmarking import compute_cas, compute_clisis, compute_gcs, compute_mlami, compute_benchmarking_metrics\n",
    "import scanpy as sc"
   ]
  },
  {
   "cell_type": "code",
   "execution_count": null,
   "id": "1bd96ac9-ec8f-408a-ac3f-698abd1d7020",
   "metadata": {},
   "outputs": [],
   "source": [
    "import jax\n",
    "jax.devices()"
   ]
  },
  {
   "cell_type": "code",
   "execution_count": null,
   "id": "4632c85b-fb72-417b-8c59-79f83c91bd26",
   "metadata": {},
   "outputs": [],
   "source": [
    "adata = sc.read_h5ad(\"../artifacts/multimodal/07072023_232510/model/adata.h5ad\")"
   ]
  },
  {
   "cell_type": "code",
   "execution_count": null,
   "id": "09cddb42-cdc6-4948-86dd-08d643ce47ec",
   "metadata": {},
   "outputs": [],
   "source": [
    "adata = sc.read_h5ad(\"../artifacts/oneshot_sample_integration/07072023_232510/model/adata.h5ad\")"
   ]
  },
  {
   "cell_type": "code",
   "execution_count": null,
   "id": "cc0aac6d-4fdd-4fa6-bdc9-0856bbeee456",
   "metadata": {},
   "outputs": [],
   "source": [
    "cas = compute_cas(\n",
    "        adata=adata,\n",
    "        cell_type_key=\"RNA_clusters\",\n",
    "        batch_key=\"batch\",\n",
    "        spatial_knng_key=\"spatial_15knng\",\n",
    "        latent_knng_key=\"spatial_15knng\", # \"nichecompass_latent_knng\",\n",
    "        spatial_key=\"spatial\",\n",
    "        latent_key=\"nichecompass_latent\",\n",
    "        n_neighbors=15,\n",
    "        n_perms=1000,\n",
    "        n_jobs=1,\n",
    "        seed=0)"
   ]
  },
  {
   "cell_type": "code",
   "execution_count": null,
   "id": "96988e98-7e33-4f3c-951b-43aa470d8b0b",
   "metadata": {},
   "outputs": [],
   "source": [
    "cas"
   ]
  },
  {
   "cell_type": "code",
   "execution_count": null,
   "id": "d7da009f-c9f4-4748-8cd4-bdababdf1704",
   "metadata": {},
   "outputs": [],
   "source": [
    "clisis = compute_clisis(\n",
    "        adata=adata,\n",
    "        cell_type_key=\"RNA_clusters\",\n",
    "        batch_key=None, # batch\n",
    "        spatial_knng_key=\"spatial_90knng\",\n",
    "        latent_knng_key=\"spatial_90knng\", # \"nichecompass_latent_knng\",\n",
    "        spatial_key=\"spatial\",\n",
    "        latent_key=\"nichecompass_latent\",\n",
    "        n_neighbors=90,\n",
    "        n_jobs=1,\n",
    "        seed=0)"
   ]
  },
  {
   "cell_type": "code",
   "execution_count": null,
   "id": "2bbaa6ae-1f1a-424f-b15b-248e190075c4",
   "metadata": {},
   "outputs": [],
   "source": [
    "clisis"
   ]
  },
  {
   "cell_type": "code",
   "execution_count": null,
   "id": "90817bf4-d6c7-495e-af02-d888c96421a5",
   "metadata": {},
   "outputs": [],
   "source": [
    "gcs = compute_gcs(\n",
    "        adata=adata,\n",
    "        batch_key=None, # \"batch\"\n",
    "        spatial_knng_key=\"spatial_15knng\",\n",
    "        latent_knng_key=\"spatial_15knng\", # \"nichecompass_latent_15knng\",\n",
    "        spatial_key=\"spatial\",\n",
    "        latent_key=\"nichecompass_latent\",\n",
    "        n_neighbors=15,\n",
    "        n_jobs=1,\n",
    "        seed=0)"
   ]
  },
  {
   "cell_type": "code",
   "execution_count": null,
   "id": "bbf35a08-6789-4a83-b7d8-6d66f589989e",
   "metadata": {},
   "outputs": [],
   "source": [
    "gcs"
   ]
  },
  {
   "cell_type": "code",
   "execution_count": null,
   "id": "df02e2b9-9179-4eec-92d4-444ad11f1156",
   "metadata": {},
   "outputs": [],
   "source": [
    "mlami = compute_mlami(\n",
    "        adata=adata,\n",
    "        batch_key=None,# \"batch\"\n",
    "        spatial_knng_key=\"spatial_15knng\",\n",
    "        latent_knng_key=\"spatial_15knng\", # \"nichecompass_latent_knng\",\n",
    "        spatial_key=\"spatial\",\n",
    "        latent_key=\"nichecompass_latent\",\n",
    "        n_neighbors=15,\n",
    "        min_res=0.1,\n",
    "        max_res=1.0,\n",
    "        res_num=3,\n",
    "        n_jobs=1)"
   ]
  },
  {
   "cell_type": "code",
   "execution_count": null,
   "id": "5a1ba74d-911a-49be-b24d-40d9a6e5b8b3",
   "metadata": {},
   "outputs": [],
   "source": [
    "mlami"
   ]
  },
  {
   "cell_type": "code",
   "execution_count": null,
   "id": "97b329e5-ee5f-4dcb-90d0-212855d36f03",
   "metadata": {},
   "outputs": [],
   "source": [
    "adata.obs"
   ]
  },
  {
   "cell_type": "code",
   "execution_count": null,
   "id": "8d100741-361b-4c0f-af00-35eabbade115",
   "metadata": {},
   "outputs": [],
   "source": [
    "adata.obs"
   ]
  },
  {
   "cell_type": "code",
   "execution_count": null,
   "id": "fb71af60-afac-4894-9583-fa779261c177",
   "metadata": {},
   "outputs": [],
   "source": [
    "benchmark_dict = compute_benchmarking_metrics(\n",
    "        adata=adata,\n",
    "        cell_type_key=\"Main_molecular_cell_type\",\n",
    "        batch_key=\"batch\",\n",
    "        spatial_key=\"spatial\",\n",
    "        latent_key=\"nichecompass_latent\",\n",
    "        n_jobs=1,\n",
    "        seed=0,\n",
    "        mlflow_experiment_id=None)"
   ]
  },
  {
   "cell_type": "code",
   "execution_count": null,
   "id": "fe216344-816e-4acf-b55c-04c28dbc5a62",
   "metadata": {},
   "outputs": [],
   "source": []
  },
  {
   "cell_type": "code",
   "execution_count": null,
   "id": "86e6d037-2759-4721-8a80-76d2028e36a2",
   "metadata": {},
   "outputs": [],
   "source": []
  },
  {
   "cell_type": "code",
   "execution_count": null,
   "id": "cad3f730-ac36-495f-a650-85dd617647ad",
   "metadata": {},
   "outputs": [],
   "source": [
    "adata.obsp[\"nichecompass_latent_knng_connectivities\"].toarray()"
   ]
  },
  {
   "cell_type": "code",
   "execution_count": null,
   "id": "a9dfeb27-b130-4da6-b9a8-2089281095cf",
   "metadata": {},
   "outputs": [],
   "source": [
    "clisis"
   ]
  },
  {
   "cell_type": "code",
   "execution_count": null,
   "id": "4327f527-af49-4983-9bec-a3c73b9f7ccf",
   "metadata": {},
   "outputs": [],
   "source": [
    "from scib_metrics import lisi_knn"
   ]
  },
  {
   "cell_type": "code",
   "execution_count": null,
   "id": "d9d1a79e-27e4-42b0-bb4d-bac9bba5326d",
   "metadata": {},
   "outputs": [],
   "source": [
    "import scanpy as sc"
   ]
  },
  {
   "cell_type": "code",
   "execution_count": null,
   "id": "c65ca249-c497-48ce-b081-efc4aa25f324",
   "metadata": {},
   "outputs": [],
   "source": [
    "import torch"
   ]
  },
  {
   "cell_type": "code",
   "execution_count": null,
   "id": "d8109e72-f470-45cf-85e6-4ccd4a06594e",
   "metadata": {},
   "outputs": [],
   "source": [
    "import numpy as np\n",
    "import scipy.sparse as sp"
   ]
  },
  {
   "cell_type": "code",
   "execution_count": null,
   "id": "da3edf1f-4d75-4bc0-927d-fe77d68c3eab",
   "metadata": {},
   "outputs": [],
   "source": [
    "\n",
    "from nichecompass.benchmarking import compute_gcs, compute_mlami, compute_clisis"
   ]
  },
  {
   "cell_type": "code",
   "execution_count": null,
   "id": "d4a17be9-6ebd-4dee-a7fe-126db6cff833",
   "metadata": {},
   "outputs": [],
   "source": [
    "jax.devices()"
   ]
  },
  {
   "cell_type": "code",
   "execution_count": null,
   "id": "09da6858-db20-4d95-b87b-32913016e694",
   "metadata": {},
   "outputs": [],
   "source": [
    "torch.cuda.is_available()"
   ]
  },
  {
   "cell_type": "code",
   "execution_count": null,
   "id": "e6c59cc9-10d2-4828-8e06-e0b62bf9eb74",
   "metadata": {},
   "outputs": [],
   "source": []
  },
  {
   "cell_type": "code",
   "execution_count": null,
   "id": "f23699c3-4936-4e6a-8aa6-068db3c1945e",
   "metadata": {},
   "outputs": [],
   "source": [
    "clisis"
   ]
  },
  {
   "cell_type": "code",
   "execution_count": null,
   "id": "f0f6d878-3e77-4611-bc24-8f0e98b32fce",
   "metadata": {},
   "outputs": [],
   "source": [
    "adata"
   ]
  },
  {
   "cell_type": "code",
   "execution_count": null,
   "id": "892c1e19-6bdf-483c-afe9-2b9d36718888",
   "metadata": {},
   "outputs": [],
   "source": [
    "clisis"
   ]
  },
  {
   "cell_type": "code",
   "execution_count": null,
   "id": "67e5c1ef-099f-41f3-93a1-ed483a489222",
   "metadata": {},
   "outputs": [],
   "source": [
    "import jax"
   ]
  },
  {
   "cell_type": "code",
   "execution_count": null,
   "id": "abdc60f7-7a77-4e9f-b92b-2e6f8faa0137",
   "metadata": {},
   "outputs": [],
   "source": [
    "jax.devices()"
   ]
  },
  {
   "cell_type": "code",
   "execution_count": null,
   "id": "5269f34b-e323-4a84-9a13-8b1ee8044c7d",
   "metadata": {},
   "outputs": [],
   "source": [
    "import cuda"
   ]
  },
  {
   "cell_type": "code",
   "execution_count": null,
   "id": "ed2db93d-21aa-486b-8988-18b0400a3709",
   "metadata": {},
   "outputs": [],
   "source": [
    "import torch\n",
    "torch.cuda.is_available()"
   ]
  },
  {
   "cell_type": "code",
   "execution_count": null,
   "id": "9e41ed32-f2bd-4263-9339-4897ea0cdfb8",
   "metadata": {},
   "outputs": [],
   "source": []
  }
 ],
 "metadata": {
  "kernelspec": {
   "display_name": "Python 3 (ipykernel)",
   "language": "python",
   "name": "python3"
  },
  "language_info": {
   "codemirror_mode": {
    "name": "ipython",
    "version": 3
   },
   "file_extension": ".py",
   "mimetype": "text/x-python",
   "name": "python",
   "nbconvert_exporter": "python",
   "pygments_lexer": "ipython3",
   "version": "3.9.16"
  }
 },
 "nbformat": 4,
 "nbformat_minor": 5
}
